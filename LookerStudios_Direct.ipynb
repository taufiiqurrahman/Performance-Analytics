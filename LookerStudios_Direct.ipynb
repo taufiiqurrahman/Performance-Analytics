{
 "cells": [
  {
   "cell_type": "code",
   "execution_count": null,
   "metadata": {},
   "outputs": [],
   "source": [
    "https://lookerstudio.google.com/reporting/82594f1b-3de1-41fc-b3bf-dccfbcf693d9"
   ]
  }
 ],
 "metadata": {
  "language_info": {
   "name": "python"
  }
 },
 "nbformat": 4,
 "nbformat_minor": 2
}
